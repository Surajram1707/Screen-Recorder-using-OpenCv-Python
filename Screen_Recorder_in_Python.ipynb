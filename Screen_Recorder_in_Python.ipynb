{
 "cells": [
  {
   "cell_type": "code",
   "execution_count": 6,
   "metadata": {},
   "outputs": [],
   "source": [
    "import numpy as np\n",
    "from PIL import ImageGrab\n",
    "import cv2"
   ]
  },
  {
   "cell_type": "code",
   "execution_count": 7,
   "metadata": {},
   "outputs": [],
   "source": [
    "fourcc = cv2.VideoWriter_fourcc(*\"XVID\")\n",
    "size = (ImageGrab.grab()).size\n",
    "output = cv2.VideoWriter(\"output.mp4\",fourcc,5.0,size)\n",
    "while True:\n",
    "    img = np.array(ImageGrab.grab())\n",
    "    frame = cv2.cvtColor(img,cv2.COLOR_BGR2RGB)\n",
    "    cv2.imshow(\"Screen\",frame)\n",
    "    output.write(img)\n",
    "    if cv2.waitKey(1)==27:\n",
    "        break\n",
    "output.release()\n",
    "cv2.destroyAllWindows()"
   ]
  },
  {
   "cell_type": "code",
   "execution_count": null,
   "metadata": {},
   "outputs": [],
   "source": []
  }
 ],
 "metadata": {
  "kernelspec": {
   "display_name": "Python 3",
   "language": "python",
   "name": "python3"
  },
  "language_info": {
   "codemirror_mode": {
    "name": "ipython",
    "version": 3
   },
   "file_extension": ".py",
   "mimetype": "text/x-python",
   "name": "python",
   "nbconvert_exporter": "python",
   "pygments_lexer": "ipython3",
   "version": "3.7.3"
  }
 },
 "nbformat": 4,
 "nbformat_minor": 2
}
